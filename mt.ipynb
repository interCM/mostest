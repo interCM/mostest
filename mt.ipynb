{
 "cells": [
  {
   "cell_type": "code",
   "execution_count": 263,
   "metadata": {},
   "outputs": [],
   "source": [
    "import numpy as np\n",
    "import pandas as pd\n",
    "from collections import namedtuple\n",
    "import numba\n",
    "from scipy.stats import pearsonr\n",
    "import scipy.stats as ss\n",
    "import math"
   ]
  },
  {
   "cell_type": "code",
   "execution_count": 267,
   "metadata": {},
   "outputs": [],
   "source": [
    "Plink = namedtuple(\"Plink\", [\"iid\", \"snp\", \"chr\", \"bp\", \"a1\", \"a2\", \"n_samples\", \"n_snps\", \"bed\"])\n",
    "\n",
    "def read_plink(bfile):\n",
    "    bim_file = f\"{bfile}.bim\"\n",
    "    bim = pd.read_csv(bim_file, sep='\\t', header=None, usecols=[0,1,3,4,5], names=[\"CHR\",\"SNP\",\"BP\",\"A1\",\"A2\"])\n",
    "    fam_file = f\"{bfile}.fam\"\n",
    "    fam = pd.read_csv(fam_file, delim_whitespace=True, header=None, usecols=[1], names=[\"IID\"])\n",
    "    \n",
    "    bed_file = f\"{bfile}.bed\"\n",
    "    magic_bits = np.fromfile(bed_file,count=3,dtype=np.uint8) # read whole bed file at once\n",
    "    if (magic_bits != [108,27,1]).any():\n",
    "        # check magic bits\n",
    "        # [108,27,1] are integers corresponding to bytes([0x6c, 0x1b, 0x01])\n",
    "        raise ValueError(f\"{bed_file} file is not a valid bed file!\")\n",
    "    n_snps = len(bim)\n",
    "    n_samples = len(fam)\n",
    "    n_cols = n_samples//4\n",
    "    if 4*n_cols != n_samples:\n",
    "        n_cols += 1\n",
    "    bed = np.memmap(bed_file, dtype=np.uint8, offset=3, mode='r', shape=(n_snps,n_cols))\n",
    "    return Plink(iid=fam.IID.values, snp=bim.SNP.values, chr=bim.CHR.values, bp=bim.BP.values,\n",
    "                 a1=bim.A1.values, a2=bim.A2.values, n_samples=n_samples, n_snps=n_snps, bed=bed)\n",
    "\n",
    "@numba.jit(nopython=True, nogil=True)\n",
    "def get_byte_map():\n",
    "    \"\"\"\n",
    "    Construct mapping between bytes 0..255 and 4-element arrays of a1 genotypes\n",
    "    from plink bed file.\n",
    "    Return 256 x 4 array A, where A[i] = [a1, a2, a3, a4], each ai from [2, -1, 1, 0].\n",
    "    \"\"\"\n",
    "    genotype_codes = np.array([2, -1, 1, 0],dtype=np.int8)\n",
    "    byte_map = np.empty((256,4), dtype=np.int8)\n",
    "    for b in range(256):\n",
    "        for i in range(4):\n",
    "            byte_map[b,i] = genotype_codes[(b >> 2*i) & 3]\n",
    "    return byte_map\n",
    "\n",
    "# geno_idx = [n_nonmiss, n2, n1, {ii2}, {ii1}, {empty}]\n",
    "# len(geno_idx) = 3 + n_samples\n",
    "# len(ii2) = n2, {ii2} = [i20, i21, ...], i20 = index of the first occurance of 2 genotype\n",
    "# {empty} = empty array to fill remaining space\n",
    "# geno_idx = np.empty(3+n_sampels, dtype=np.int)\n",
    "# ii1_tmp, ii2_tmp = np.empty(n_samples, dtype=np.int), to fill indices of 2 and 1 genotypes correspondingly\n",
    "@numba.jit(nopython=True, nogil=True)\n",
    "def get_geno_idx(i_geno, bed, n_samples, geno_idx, ii1_tmp, ii2_tmp, byte_map):\n",
    "    i = 0 # current sample index\n",
    "    n2 = 0\n",
    "    n1 = 0\n",
    "    n_nonmiss = 0\n",
    "    for b in bed[i_geno]:\n",
    "        for g in byte_map[b]:\n",
    "            if g != -1:\n",
    "                n_nonmiss += 1\n",
    "                if g == 2:\n",
    "                    ii2_tmp[n2] = i\n",
    "                    n2 += 1\n",
    "                elif g == 1:\n",
    "                    ii1_tmp[n1] = i\n",
    "                    n1 += 1\n",
    "            i += 1\n",
    "            if i == n_samples:\n",
    "                break\n",
    "    geno_idx[0] = n_nonmiss\n",
    "    geno_idx[1] = n2\n",
    "    geno_idx[2] = n1\n",
    "    geno_idx[3:3+n2] = ii2_tmp[:n2]\n",
    "    geno_idx[3+n2:3+n2+n1] = ii1_tmp[:n1]\n",
    "\n",
    "    \n",
    "@numba.jit(nopython=True, nogil=True)\n",
    "def get_geno(geno, i, bed, byte_map=None):\n",
    "    \"\"\"\n",
    "    Args:\n",
    "        geno = np.empty(n_samples, dtype=np.int8) = array to fill\n",
    "        i = int number\n",
    "    \"\"\"\n",
    "    if byte_map is None:\n",
    "        byte_map = get_byte_map()\n",
    "    n_samples = len(geno)\n",
    "    i_g = 0\n",
    "    for b in bed[i]:\n",
    "        for g in byte_map[b]:\n",
    "            geno[i_g] = g\n",
    "            i_g += 1\n",
    "            if i_g == n_samples:\n",
    "                break\n",
    "\n",
    "@numba.jit(nopython=True, nogil=True)\n",
    "def get_t_stat(idx2, idx1, pheno_mat, n_pheno, pheno_mean_arr, pheno_std_arr,\n",
    "               geno_mean, geno_std, n_nonmiss, t_stat):\n",
    "    for pheno_i in range(n_pheno):\n",
    "        p2 = 2.0*pheno_mat[pheno_i][idx2].sum()\n",
    "        p1 = pheno_mat[pheno_i][idx1].sum()\n",
    "        pg_mean = (p2 + p1)/n_nonmiss\n",
    "        pg_r = (pg_mean - pheno_mean_arr[pheno_i]*geno_mean)/(pheno_std_arr[pheno_i]*geno_std)\n",
    "        pg_t = pg_r*math.sqrt((n_nonmiss - 2)/(1 - pg_r*pg_r))\n",
    "        t_stat[pheno_i] = pg_t\n",
    "        \n",
    "        \n",
    "@numba.jit(nopython=True, parallel=True, nogil=True)\n",
    "def gen_corr(pheno_mat, pheno_mean, pheno_std, inv_C0reg, bed, n_snps, n_samples,\n",
    "             mosttest_stat, mosttest_stat_shuf, minp_stat, minp_stat_shuf):\n",
    "    # pheno_mean, pheno_std are passed as arguments since numba does not support kwargs for these functions.\n",
    "    byte_map = get_byte_map()\n",
    "    n_pheno = pheno_mat.shape[0]\n",
    "    for geno_i in numba.prange(n_snps):\n",
    "        t_stat = np.zeros(n_pheno, dtype=np.float32) # this array can be preallocated by thread\n",
    "        t_stat_shuf = np.empty(n_pheno, dtype=np.float32) # this array can be preallocated by thread\n",
    "        geno_idx = np.empty(3+n_samples, dtype=np.int32) # this array can be preallocated by thread\n",
    "        ii1_tmp = np.empty(n_samples, dtype=np.int32) # this array can be preallocated by thread\n",
    "        ii2_tmp = np.empty(n_samples, dtype=np.int32) # this array can be preallocated by thread\n",
    "        get_geno_idx(geno_i, bed, n_samples, geno_idx, ii1_tmp, ii2_tmp, byte_map)\n",
    "        geno_mean = (geno_idx[1]*2 + geno_idx[2])/geno_idx[0]\n",
    "        geno_std = math.sqrt((geno_idx[1]*4 + geno_idx[2])/geno_idx[0] - geno_mean*geno_mean)\n",
    "        n_nonmiss = geno_idx[0]\n",
    "        n2 = geno_idx[1]\n",
    "        n1 = geno_idx[2]\n",
    "        # for original genotypes\n",
    "        get_t_stat(geno_idx[3:3+n2], geno_idx[3+n2:3+n2+n1], pheno_mat, n_pheno, pheno_mean, pheno_std,\n",
    "                   geno_mean, geno_std, n_nonmiss, t_stat)\n",
    "        mosttest_stat[geno_i] = t_stat @ inv_C0reg @ t_stat \n",
    "        x = -np.max(np.abs(t_stat))\n",
    "        minp_stat[geno_i] = 1.0 + math.erf(x/math.sqrt(2.0)) # 2*norm.cdf(x)\n",
    "\n",
    "        # for shuffled genotypes\n",
    "        geno_idx_shuf = np.random.choice(n_samples,n1+n2,replace=False)\n",
    "        get_t_stat(geno_idx_shuf[:n2], geno_idx_shuf[n2:], pheno_mat, n_pheno, pheno_mean, pheno_std,\n",
    "                   geno_mean, geno_std, n_nonmiss, t_stat)\n",
    "        mosttest_stat_shuf[geno_i] = t_stat @ inv_C0reg @ t_stat\n",
    "        x = -np.max(np.abs(t_stat))\n",
    "        minp_stat_shuf[geno_i] = 1.0 + math.erf(x/math.sqrt(2.0)) # 2*norm.cdf(x)\n",
    "        \n",
    "    "
   ]
  },
  {
   "cell_type": "code",
   "execution_count": 152,
   "metadata": {},
   "outputs": [
    {
     "name": "stdout",
     "output_type": "stream",
     "text": [
      "(10000, 10)\n"
     ]
    },
    {
     "data": {
      "text/html": [
       "<div>\n",
       "<style scoped>\n",
       "    .dataframe tbody tr th:only-of-type {\n",
       "        vertical-align: middle;\n",
       "    }\n",
       "\n",
       "    .dataframe tbody tr th {\n",
       "        vertical-align: top;\n",
       "    }\n",
       "\n",
       "    .dataframe thead th {\n",
       "        text-align: right;\n",
       "    }\n",
       "</style>\n",
       "<table border=\"1\" class=\"dataframe\">\n",
       "  <thead>\n",
       "    <tr style=\"text-align: right;\">\n",
       "      <th></th>\n",
       "      <th>trait1</th>\n",
       "      <th>trait2</th>\n",
       "      <th>trait3</th>\n",
       "      <th>trait4</th>\n",
       "      <th>trait5</th>\n",
       "      <th>trait6</th>\n",
       "      <th>trait7</th>\n",
       "      <th>trait8</th>\n",
       "      <th>trait9</th>\n",
       "      <th>trait10</th>\n",
       "    </tr>\n",
       "  </thead>\n",
       "  <tbody>\n",
       "    <tr>\n",
       "      <th>0</th>\n",
       "      <td>1.27144</td>\n",
       "      <td>0.573959</td>\n",
       "      <td>0.282021</td>\n",
       "      <td>-0.524421</td>\n",
       "      <td>1.563900</td>\n",
       "      <td>1.997930</td>\n",
       "      <td>-1.59026</td>\n",
       "      <td>-0.025822</td>\n",
       "      <td>0.157737</td>\n",
       "      <td>0.620283</td>\n",
       "    </tr>\n",
       "    <tr>\n",
       "      <th>1</th>\n",
       "      <td>-2.38677</td>\n",
       "      <td>0.430421</td>\n",
       "      <td>-0.903973</td>\n",
       "      <td>-0.308664</td>\n",
       "      <td>0.751253</td>\n",
       "      <td>-0.233879</td>\n",
       "      <td>1.71025</td>\n",
       "      <td>1.139250</td>\n",
       "      <td>0.178941</td>\n",
       "      <td>-0.795770</td>\n",
       "    </tr>\n",
       "    <tr>\n",
       "      <th>2</th>\n",
       "      <td>-1.58732</td>\n",
       "      <td>0.414166</td>\n",
       "      <td>1.524530</td>\n",
       "      <td>1.291930</td>\n",
       "      <td>-0.579384</td>\n",
       "      <td>0.095391</td>\n",
       "      <td>1.17510</td>\n",
       "      <td>-0.523504</td>\n",
       "      <td>-1.480360</td>\n",
       "      <td>-0.072877</td>\n",
       "    </tr>\n",
       "  </tbody>\n",
       "</table>\n",
       "</div>"
      ],
      "text/plain": [
       "    trait1    trait2    trait3    trait4    trait5    trait6   trait7  \\\n",
       "0  1.27144  0.573959  0.282021 -0.524421  1.563900  1.997930 -1.59026   \n",
       "1 -2.38677  0.430421 -0.903973 -0.308664  0.751253 -0.233879  1.71025   \n",
       "2 -1.58732  0.414166  1.524530  1.291930 -0.579384  0.095391  1.17510   \n",
       "\n",
       "     trait8    trait9   trait10  \n",
       "0 -0.025822  0.157737  0.620283  \n",
       "1  1.139250  0.178941 -0.795770  \n",
       "2 -0.523504 -1.480360 -0.072877  "
      ]
     },
     "execution_count": 152,
     "metadata": {},
     "output_type": "execute_result"
    }
   ],
   "source": [
    "pheno = \"pheno.txt\"            # full or relative path to the phenotype file\n",
    "bfile = \"chr21\"                # full or relative path to plink bfile prefix\n",
    "out = \"results\"                # prefix for the output files\n",
    "pheno_df = pd.read_csv(pheno, sep='\\t')\n",
    "print(pheno_df.shape)\n",
    "pheno_df.head(3)"
   ]
  },
  {
   "cell_type": "code",
   "execution_count": 153,
   "metadata": {},
   "outputs": [],
   "source": [
    "plink = read_plink(bfile)"
   ]
  },
  {
   "cell_type": "code",
   "execution_count": 168,
   "metadata": {},
   "outputs": [
    {
     "name": "stdout",
     "output_type": "stream",
     "text": [
      "0:\t(-0.026900267111844935, 0.007141408429096841)\n",
      "1:\t(-0.023174981513127416, 0.020475440309356184)\n",
      "2:\t(-0.02378678765013903, 0.017372963362809832)\n",
      "3:\t(-0.00259158690856959, 0.795537461997438)\n",
      "4:\t(0.025485991420215723, 0.010812697430029918)\n",
      "5:\t(-0.01108464920168129, 0.26770619924493866)\n",
      "6:\t(0.0021757589681088477, 0.8277805592597748)\n",
      "7:\t(-0.006787655271854427, 0.49733525809786233)\n",
      "8:\t(-0.00860538922174816, 0.3895425335762583)\n",
      "9:\t(0.008513740209739561, 0.39461215514420367)\n"
     ]
    }
   ],
   "source": [
    "byte_map = get_byte_map()\n",
    "i_geno = 0\n",
    "geno = np.empty(n_samples, dtype=np.int8)\n",
    "get_geno(geno, i_geno, plink.bed, byte_map)\n",
    "for i in range(10):\n",
    "    print(f\"{i}:\\t{pearsonr(geno, pheno_df.values.T[i])}\")"
   ]
  },
  {
   "cell_type": "code",
   "execution_count": 269,
   "metadata": {},
   "outputs": [
    {
     "name": "stdout",
     "output_type": "stream",
     "text": [
      "CPU times: user 49.2 s, sys: 109 ms, total: 49.3 s\n",
      "Wall time: 13 s\n"
     ]
    },
    {
     "data": {
      "text/plain": [
       "(array([27.674358 ,  5.3650484, 27.669147 , ...,  9.494259 , 19.795343 ,\n",
       "        32.702    ], dtype=float32),\n",
       " array([13.661152, 12.481163, 10.021618, ...,  4.498459,  6.136265,\n",
       "        11.794331], dtype=float32),\n",
       " array([0.0071296 , 0.1387241 , 0.00672145, ..., 0.08371501, 0.00463058,\n",
       "        0.00056898], dtype=float32),\n",
       " array([0.08895145, 0.05900057, 0.02563081, ..., 0.14381345, 0.18546563,\n",
       "        0.01343986], dtype=float32))"
      ]
     },
     "execution_count": 269,
     "metadata": {},
     "output_type": "execute_result"
    }
   ],
   "source": [
    "mosttest_stat = np.empty(plink.n_snps, dtype=np.float32)\n",
    "mosttest_stat_shuf = np.empty(plink.n_snps, dtype=np.float32)\n",
    "minp_stat = np.empty(plink.n_snps, dtype=np.float32)\n",
    "minp_stat_shuf = np.empty(plink.n_snps, dtype=np.float32)\n",
    "pheno_mat = pheno_df.values.T\n",
    "pheno_mean = np.mean(pheno_mat, axis=1, dtype=np.float32)\n",
    "pheno_std = np.std(pheno_mat, axis=1, dtype=np.float32, ddof=0)\n",
    "pheno_corr_mat = np.corrcoef(pheno_mat, rowvar=True)\n",
    "inv_C0reg = np.linalg.inv(pheno_corr_mat)\n",
    "\n",
    "pheno_mat = pheno_mat.astype(np.float32)\n",
    "inv_C0reg = inv_C0reg.astype(np.float32)\n",
    "\n",
    "%time gen_corr(pheno_mat, pheno_mean, pheno_std, inv_C0reg, plink.bed, plink.n_snps, plink.n_samples, mosttest_stat, mosttest_stat_shuf, minp_stat, minp_stat_shuf)\n",
    "\n",
    "mosttest_stat, mosttest_stat_shuf, minp_stat, minp_stat_shuf"
   ]
  },
  {
   "cell_type": "code",
   "execution_count": 192,
   "metadata": {},
   "outputs": [],
   "source": [
    "mm = np.corrcoef(pheno_mat, rowvar=True)\n",
    "mm_inv = np.linalg.inv(mm)"
   ]
  },
  {
   "cell_type": "code",
   "execution_count": 194,
   "metadata": {},
   "outputs": [
    {
     "data": {
      "text/plain": [
       "True"
      ]
     },
     "execution_count": 194,
     "metadata": {},
     "output_type": "execute_result"
    }
   ],
   "source": [
    "np.allclose(mm @ mm_inv, np.eye(mm.shape[0]))"
   ]
  },
  {
   "cell_type": "code",
   "execution_count": 199,
   "metadata": {},
   "outputs": [
    {
     "data": {
      "text/plain": [
       "array([-2.54562806, -3.33233232, -1.32856087, -0.02196962,  2.59537891,\n",
       "       -0.98409948,  0.66497589, -0.11338269, -1.58169842,  0.75735126])"
      ]
     },
     "execution_count": 199,
     "metadata": {},
     "output_type": "execute_result"
    }
   ],
   "source": [
    "t_stat @ mm_inv"
   ]
  },
  {
   "cell_type": "code",
   "execution_count": 201,
   "metadata": {},
   "outputs": [
    {
     "data": {
      "text/plain": [
       "array([-2.54562806, -3.33233232, -1.32856087, -0.02196962,  2.59537891,\n",
       "       -0.98409948,  0.66497589, -0.11338269, -1.58169842,  0.75735126])"
      ]
     },
     "execution_count": 201,
     "metadata": {},
     "output_type": "execute_result"
    }
   ],
   "source": [
    "mm_inv @ t_stat"
   ]
  },
  {
   "cell_type": "code",
   "execution_count": 208,
   "metadata": {},
   "outputs": [
    {
     "data": {
      "text/plain": [
       "(array([[1., 2.],\n",
       "        [3., 4.]]),\n",
       " array([2., 5.]))"
      ]
     },
     "execution_count": 208,
     "metadata": {},
     "output_type": "execute_result"
    }
   ],
   "source": [
    "a = np.array([[1,2],[3.0,4.0]])\n",
    "b = np.array([2,5.0])\n",
    "a, b"
   ]
  },
  {
   "cell_type": "code",
   "execution_count": 210,
   "metadata": {},
   "outputs": [],
   "source": [
    "@numba.njit()\n",
    "def ff(a, b):\n",
    "    return b@a@b"
   ]
  },
  {
   "cell_type": "code",
   "execution_count": 251,
   "metadata": {},
   "outputs": [],
   "source": [
    "c = np.array([3.,2])"
   ]
  },
  {
   "cell_type": "code",
   "execution_count": 256,
   "metadata": {},
   "outputs": [
    {
     "data": {
      "text/plain": [
       "(2,)"
      ]
     },
     "execution_count": 256,
     "metadata": {},
     "output_type": "execute_result"
    }
   ],
   "source": [
    "((3.0 - 1)/(c*c)).shape"
   ]
  },
  {
   "cell_type": "code",
   "execution_count": null,
   "metadata": {},
   "outputs": [],
   "source": []
  }
 ],
 "metadata": {
  "kernelspec": {
   "display_name": "Python 3",
   "language": "python",
   "name": "python3"
  },
  "language_info": {
   "codemirror_mode": {
    "name": "ipython",
    "version": 3
   },
   "file_extension": ".py",
   "mimetype": "text/x-python",
   "name": "python",
   "nbconvert_exporter": "python",
   "pygments_lexer": "ipython3",
   "version": "3.8.1"
  }
 },
 "nbformat": 4,
 "nbformat_minor": 4
}
